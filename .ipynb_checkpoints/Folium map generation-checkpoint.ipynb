{
 "cells": [
  {
   "cell_type": "code",
   "execution_count": 5,
   "id": "85adc467",
   "metadata": {},
   "outputs": [],
   "source": [
    "import pandas as pd"
   ]
  },
  {
   "cell_type": "markdown",
   "id": "be057bc2",
   "metadata": {},
   "source": [
    "## My initial plan was to create a interactive HTML webpage, for that i implemented a interactive HCHO readings heatmap using `folium`. "
   ]
  },
  {
   "cell_type": "code",
   "execution_count": 6,
   "id": "2d9ee371",
   "metadata": {},
   "outputs": [
    {
     "data": {
      "text/plain": [
       "Index(['Current_Date', 'Location', 'LATITUDE', 'LONGITUDE', 'ELEVATION',\n",
       "       'Sea Proximity (approximate-km)', 'Sea Proximity Categorised',\n",
       "       'Climate Zone', 'Area(km^2)', 'Population', 'Population_density', 'new',\n",
       "       'total', 'Lockdown', 'carbonmonoxide_average',\n",
       "       'nitrogendioxide_average', 'ozone_average', 'PRCP', 'TAVG', 'TMAX',\n",
       "       'TMIN', 'HCHO_reading'],\n",
       "      dtype='object')"
      ]
     },
     "execution_count": 6,
     "metadata": {},
     "output_type": "execute_result"
    }
   ],
   "source": [
    "merged_df=pd.read_csv(r\"processed data\\all_data_combined.csv\")\n",
    "merged_df.columns"
   ]
  },
  {
   "cell_type": "code",
   "execution_count": 7,
   "id": "6516da9b",
   "metadata": {},
   "outputs": [
    {
     "name": "stdout",
     "output_type": "stream",
     "text": [
      "Conversion to DateTime format successful.\n",
      "<class 'pandas.core.frame.DataFrame'>\n",
      "RangeIndex: 12782 entries, 0 to 12781\n",
      "Data columns (total 4 columns):\n",
      " #   Column        Non-Null Count  Dtype         \n",
      "---  ------        --------------  -----         \n",
      " 0   Current_Date  12782 non-null  datetime64[ns]\n",
      " 1   LATITUDE      12782 non-null  float64       \n",
      " 2   LONGITUDE     12782 non-null  float64       \n",
      " 3   HCHO_reading  12782 non-null  float64       \n",
      "dtypes: datetime64[ns](1), float64(3)\n",
      "memory usage: 399.6 KB\n"
     ]
    }
   ],
   "source": [
    "merged_df=merged_df[['Current_Date', 'LATITUDE','LONGITUDE','HCHO_reading']]\n",
    "\n",
    "try:\n",
    "    # Convert 'Current_Date' to DateTime format\n",
    "    merged_df['Current_Date'] = pd.to_datetime(merged_df['Current_Date'])\n",
    "    print(\"Conversion to DateTime format successful.\")\n",
    "except ValueError as e:\n",
    "    print(f\"Error converting to DateTime format: {e}\")\n",
    "    \n",
    "merged_df.info()"
   ]
  },
  {
   "cell_type": "code",
   "execution_count": 8,
   "id": "cca91b1c",
   "metadata": {},
   "outputs": [
    {
     "data": {
      "text/plain": [
       "count    12782.000000\n",
       "mean         0.000111\n",
       "std          0.000075\n",
       "min         -0.000112\n",
       "25%          0.000060\n",
       "50%          0.000105\n",
       "75%          0.000158\n",
       "max          0.000415\n",
       "Name: HCHO_reading, dtype: float64"
      ]
     },
     "execution_count": 8,
     "metadata": {},
     "output_type": "execute_result"
    }
   ],
   "source": [
    "merged_df['HCHO_reading'].describe()"
   ]
  },
  {
   "cell_type": "code",
   "execution_count": 9,
   "id": "598dc57b",
   "metadata": {},
   "outputs": [],
   "source": [
    "import folium\n",
    "import numpy as np\n",
    "from folium.plugins import HeatMapWithTime\n",
    "\n",
    "# Sort DataFrame by Current_Date\n",
    "sorted_df = merged_df.sort_values(by=['Current_Date', 'LATITUDE'])\n",
    "\n",
    "# Convert timestamps to strings in ISO format\n",
    "iso_timestamps = [timestamp.strftime('%Y-%m-%d %H:%M:%S') for timestamp in sorted_df['Current_Date'].unique()]\n",
    "\n",
    "\n",
    "# Create HeatMapWithTime layer\n",
    "heat_data = []\n",
    "\n",
    "for time in iso_timestamps:\n",
    "    filtered_data = [[row['LATITUDE'], row['LONGITUDE'], row['HCHO_reading']] for index, row in sorted_df.iterrows() if row['Current_Date'].strftime('%Y-%m-%d %H:%M:%S') == time]\n",
    "    heat_data.append(filtered_data)\n",
    "\n",
    "# Scale HCHO readings to a larger range\n",
    "max_hcho = sorted_df['HCHO_reading'].max()\n",
    "scaled_heat_data = [[[row[0], row[1], row[2] * 10000] for row in time_data] for time_data in heat_data]\n",
    "\n",
    "\n"
   ]
  },
  {
   "cell_type": "code",
   "execution_count": 16,
   "id": "0bbd169c",
   "metadata": {},
   "outputs": [],
   "source": [
    "# Create a map centered at Sri Lanka with fixed zoom level, and disable zoom and pan\n",
    "map_obj = folium.Map(location=[7.8731, 80.7718], zoom_start=7, max_zoom=7, min_zoom=7, zoom_control=False, tiles='cartodbdark_matter')\n",
    "# Create HeatMapWithTime layer with scaled data and gradient\n",
    "hm = HeatMapWithTime(scaled_heat_data, auto_play=True, index=iso_timestamps, gradient={0: 'blue', 0.25: 'cyan', 0.5: 'lime', 0.75: 'yellow', 1: 'red'}, radius=40)\n",
    "\n",
    "# Add the HeatMapWithTime layer to the map\n",
    "hm.add_to(map_obj)\n",
    "\n",
    "# Display the map\n",
    "map_obj.save('spatiotemporal_heatmap-HCHO.html')\n"
   ]
  },
  {
   "cell_type": "code",
   "execution_count": null,
   "id": "894f6278",
   "metadata": {},
   "outputs": [],
   "source": [
    "# import folium\n",
    "# import numpy as np\n",
    "# from folium.plugins import HeatMapWithTime\n",
    "\n",
    "# # Sort DataFrame by Current_Date\n",
    "# sorted_df = merged_df.sort_values(by=['Current_Date', 'LATITUDE'])\n",
    "\n",
    "# # Convert timestamps to strings in ISO format\n",
    "# iso_timestamps = [timestamp.strftime('%Y-%m-%d %H:%M:%S') for timestamp in sorted_df['Current_Date'].unique()]\n",
    "\n",
    "# # Calculate mean latitude and longitude\n",
    "# mean_lat = np.mean(sorted_df['LATITUDE'])\n",
    "# mean_lon = np.mean(sorted_df['LONGITUDE'])\n",
    "\n",
    "# # Create a map centered at the mean location\n",
    "# map_obj = folium.Map(location=[mean_lat, mean_lon], zoom_start=4)\n",
    "\n",
    "# # Create HeatMapWithTime layer\n",
    "# heat_data = []\n",
    "\n",
    "# for time in iso_timestamps:\n",
    "#     filtered_data = [[row['LATITUDE'], row['LONGITUDE'], row['HCHO_reading']] for index, row in sorted_df.iterrows() if row['Current_Date'].strftime('%Y-%m-%d %H:%M:%S') == time]\n",
    "#     heat_data.append(filtered_data)\n",
    "\n",
    "# # Scale HCHO readings to a larger range\n",
    "# max_hcho = sorted_df['HCHO_reading'].max()\n",
    "# scaled_heat_data = [[[row[0], row[1], row[2] * 10000] for row in time_data] for time_data in heat_data]\n",
    "\n",
    "# # Create HeatMapWithTime layer with scaled data\n",
    "# hm = HeatMapWithTime(scaled_heat_data, auto_play=True, index=iso_timestamps)\n",
    "\n",
    "\n",
    "# Create HeatMapWithTime layer with a gradient based on the HCHO_reading column\n",
    "# hm = HeatMapWithTime(scaled_heat_data, auto_play=True, index=iso_timestamps, gradient={0: 'blue', 0.25: 'cyan', 0.5: 'lime', 0.75: 'yellow', 1: 'red'}, radius=40)\n",
    "\n",
    "# # Add the HeatMapWithTime layer to the map\n",
    "# hm.add_to(map_obj)\n",
    "\n",
    "# # Display the map\n",
    "# map_obj.save('spatiotemporal_heatmap-demo.html')\n"
   ]
  },
  {
   "cell_type": "code",
   "execution_count": null,
   "id": "09f6bd88",
   "metadata": {},
   "outputs": [],
   "source": []
  }
 ],
 "metadata": {
  "kernelspec": {
   "display_name": "Python 3 (ipykernel)",
   "language": "python",
   "name": "python3"
  },
  "language_info": {
   "codemirror_mode": {
    "name": "ipython",
    "version": 3
   },
   "file_extension": ".py",
   "mimetype": "text/x-python",
   "name": "python",
   "nbconvert_exporter": "python",
   "pygments_lexer": "ipython3",
   "version": "3.11.5"
  }
 },
 "nbformat": 4,
 "nbformat_minor": 5
}
